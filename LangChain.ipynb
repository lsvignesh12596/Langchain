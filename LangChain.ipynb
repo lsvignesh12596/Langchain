{
  "nbformat": 4,
  "nbformat_minor": 0,
  "metadata": {
    "colab": {
      "provenance": []
    },
    "kernelspec": {
      "name": "python3",
      "display_name": "Python 3"
    },
    "language_info": {
      "name": "python"
    }
  },
  "cells": [
    {
      "cell_type": "markdown",
      "source": [
        "# Parsing SQL Data"
      ],
      "metadata": {
        "id": "iOT6xn5_gqXR"
      }
    },
    {
      "cell_type": "code",
      "execution_count": null,
      "metadata": {
        "id": "eIC1heY2Td8t"
      },
      "outputs": [],
      "source": [
        "!pip install langchain\n",
        "!pip install openai"
      ]
    },
    {
      "cell_type": "code",
      "source": [
        "from langchain import OpenAI, SQLDatabase, SQLDatabaseChain"
      ],
      "metadata": {
        "id": "4lZQP5PFTmVs"
      },
      "execution_count": null,
      "outputs": []
    },
    {
      "cell_type": "code",
      "source": [
        "Server = \"\"\n",
        "Database = \"\"\n",
        "Driver = \"\"\n",
        "Username = \"\"\n",
        "Password = \"\"\n",
        "db_conn = f\"mssql://{Username}:{Password}@{Server}/{Database}?driver={Driver}\"\n",
        "\n",
        "db = SQLDatabase.from_uri(db_conn)\n",
        "llm = OpenAI(temperature=0)"
      ],
      "metadata": {
        "id": "gaWfBs_FUC50"
      },
      "execution_count": null,
      "outputs": []
    },
    {
      "cell_type": "code",
      "source": [
        "db_chain = SQLDatabaseChain(llm=llm, database=db, verbose=True)"
      ],
      "metadata": {
        "id": "wXn8BlbqZYCE"
      },
      "execution_count": null,
      "outputs": []
    },
    {
      "cell_type": "code",
      "source": [
        "query = \"\"\n",
        "db_chain.run(query)"
      ],
      "metadata": {
        "id": "WAh07kH1WqPJ"
      },
      "execution_count": null,
      "outputs": []
    },
    {
      "cell_type": "markdown",
      "source": [
        "# Analyzing Tabular Data"
      ],
      "metadata": {
        "id": "bqYCCS_cjG5V"
      }
    },
    {
      "cell_type": "code",
      "source": [
        "!pip install langchain\n",
        "!pip install openai\n",
        "!pip install chromadb\n",
        "!pip install tiktoken"
      ],
      "metadata": {
        "id": "p8O3GbOXDA1G"
      },
      "execution_count": null,
      "outputs": []
    },
    {
      "cell_type": "code",
      "source": [
        "from langchain.document_loaders import CSVLoader\n",
        "from langchain.indexes import VectorstoreIndexCreator\n",
        "from langchain.chains import RetrievalQA\n",
        "from langchain.llms import OpenAI"
      ],
      "metadata": {
        "id": "eS3vEvcgjJE5"
      },
      "execution_count": null,
      "outputs": []
    },
    {
      "cell_type": "code",
      "source": [
        "import os\n",
        "os.environ['OPENAI_API_KEY'] = \"\""
      ],
      "metadata": {
        "id": "tVz7RBWUoC1x"
      },
      "execution_count": null,
      "outputs": []
    },
    {
      "cell_type": "code",
      "source": [
        "!wget https://raw.githubusercontent.com/datasciencedojo/datasets/master/titanic.csv"
      ],
      "metadata": {
        "colab": {
          "base_uri": "https://localhost:8080/"
        },
        "id": "crIDqdhglQj3",
        "outputId": "4abfc4b0-e0e9-47d4-fd77-4836f7349f3d"
      },
      "execution_count": null,
      "outputs": [
        {
          "output_type": "stream",
          "name": "stdout",
          "text": [
            "--2023-04-23 07:37:22--  https://raw.githubusercontent.com/datasciencedojo/datasets/master/titanic.csv\n",
            "Resolving raw.githubusercontent.com (raw.githubusercontent.com)... 185.199.111.133, 185.199.108.133, 185.199.109.133, ...\n",
            "Connecting to raw.githubusercontent.com (raw.githubusercontent.com)|185.199.111.133|:443... connected.\n",
            "HTTP request sent, awaiting response... 200 OK\n",
            "Length: 60302 (59K) [text/plain]\n",
            "Saving to: ‘titanic.csv’\n",
            "\n",
            "\rtitanic.csv           0%[                    ]       0  --.-KB/s               \rtitanic.csv         100%[===================>]  58.89K  --.-KB/s    in 0.007s  \n",
            "\n",
            "2023-04-23 07:37:23 (8.21 MB/s) - ‘titanic.csv’ saved [60302/60302]\n",
            "\n"
          ]
        }
      ]
    },
    {
      "cell_type": "code",
      "source": [
        "loader = CSVLoader(file_path='titanic.csv')"
      ],
      "metadata": {
        "id": "a46Y6z1Qlc0k"
      },
      "execution_count": null,
      "outputs": []
    },
    {
      "cell_type": "code",
      "source": [
        "index_creator = VectorstoreIndexCreator()\n",
        "doc_search = index_creator.from_loaders([loader])"
      ],
      "metadata": {
        "colab": {
          "base_uri": "https://localhost:8080/"
        },
        "id": "AtzDKgyeloCf",
        "outputId": "bd9d0846-8aa1-4023-805a-e734e75668a2"
      },
      "execution_count": null,
      "outputs": [
        {
          "output_type": "stream",
          "name": "stderr",
          "text": [
            "WARNING:chromadb:Using embedded DuckDB without persistence: data will be transient\n"
          ]
        }
      ]
    },
    {
      "cell_type": "code",
      "source": [
        "chain =RetrievalQA.from_chain_type(llm=OpenAI(), chain_type=\"stuff\", retriever=doc_search.vectorstore.as_retriever(), input_key = \"question\", verbose=True)"
      ],
      "metadata": {
        "id": "CrgqYi7ooSOQ"
      },
      "execution_count": null,
      "outputs": []
    },
    {
      "cell_type": "code",
      "source": [
        "query =  \"impute average age for the missing values in the Age columnn and tell the new average age\" #\"how many rows and columns are present in this dataset\"   #\"run df.info() on the entire data and write your observations\"\n",
        "response = chain({\"question\":query})\n",
        "print(response['result'])"
      ],
      "metadata": {
        "colab": {
          "base_uri": "https://localhost:8080/"
        },
        "id": "EwkCmUvNrjqk",
        "outputId": "e2bdaa76-a4bb-42a8-8f0e-1ef4e64a5b25"
      },
      "execution_count": null,
      "outputs": [
        {
          "output_type": "stream",
          "name": "stdout",
          "text": [
            "\n",
            "\n",
            "\u001b[1m> Entering new RetrievalQA chain...\u001b[0m\n",
            "\n",
            "\u001b[1m> Finished chain.\u001b[0m\n",
            " The average age for the missing values can be calculated by taking the average of the ages of the passengers that were given. The average age of the passengers provided is 27.5, so the imputed average age for the missing values in the Age column is 27.5.\n"
          ]
        }
      ]
    },
    {
      "cell_type": "markdown",
      "source": [
        "# OR\n",
        "\n",
        "\n",
        "\n"
      ],
      "metadata": {
        "id": "CfzK6uiK0Nxk"
      }
    },
    {
      "cell_type": "code",
      "source": [
        "from langchain.llms import OpenAI"
      ],
      "metadata": {
        "id": "Q0Z9JVWPr5zy"
      },
      "execution_count": null,
      "outputs": []
    },
    {
      "cell_type": "code",
      "source": [
        "df = pd.read_csv('titanic.csv')"
      ],
      "metadata": {
        "id": "14tLcCUm0eT6"
      },
      "execution_count": null,
      "outputs": []
    },
    {
      "cell_type": "code",
      "source": [
        "agent = create_pandas_dataframe_agent(OpenAI(temperature=0), df, verbose=True)"
      ],
      "metadata": {
        "id": "bZpnQUL30itE"
      },
      "execution_count": null,
      "outputs": []
    },
    {
      "cell_type": "code",
      "source": [
        "agent.run(\"how many rows and columns are present?\")"
      ],
      "metadata": {
        "id": "tOvE3QNj0w5y"
      },
      "execution_count": null,
      "outputs": []
    },
    {
      "cell_type": "code",
      "source": [
        "agent.run(\"how many people have more than 3 siblings?\")"
      ],
      "metadata": {
        "id": "WYphyyNH04hh"
      },
      "execution_count": null,
      "outputs": []
    },
    {
      "cell_type": "markdown",
      "source": [
        "# Passing Custom Data"
      ],
      "metadata": {
        "id": "3p0irgqGsYNc"
      }
    },
    {
      "cell_type": "code",
      "source": [
        "!pip install langchain\n",
        "!pip install openai\n",
        "!pip install PyPDF2\n",
        "!pip install faiss-cpu\n",
        "!pip install tiktoken"
      ],
      "metadata": {
        "id": "VaB1H1nFsZqq"
      },
      "execution_count": null,
      "outputs": []
    },
    {
      "cell_type": "code",
      "source": [
        "from PyPDF2 import PdfReader\n",
        "from langchain.embeddings.openai import OpenAIEmbeddings\n",
        "from langchain.text_splitter import CharacterTextSplitter\n",
        "from langchain.vectorstores import ElasticVectorSearch, Pinecone, Weaviate, FAISS"
      ],
      "metadata": {
        "id": "T2IZ2GWVRFyt"
      },
      "execution_count": null,
      "outputs": []
    },
    {
      "cell_type": "code",
      "source": [
        "import os\n",
        "os.environ['OPENAI_API_KEY'] = \"\""
      ],
      "metadata": {
        "id": "PfTang5qRnMH"
      },
      "execution_count": null,
      "outputs": []
    },
    {
      "cell_type": "code",
      "source": [
        "reader = PdfReader(\"/content/2304.09697.pdf\")"
      ],
      "metadata": {
        "id": "OP3C-I3wRscs"
      },
      "execution_count": null,
      "outputs": []
    },
    {
      "cell_type": "code",
      "source": [
        "raw_text = \"\"\n",
        "for i, page in enumerate(reader.pages):\n",
        "  text = page.extract_text()\n",
        "  if text:\n",
        "    raw_text += text"
      ],
      "metadata": {
        "id": "wwqgW78VoXku"
      },
      "execution_count": null,
      "outputs": []
    },
    {
      "cell_type": "code",
      "source": [
        "raw_text[:500]"
      ],
      "metadata": {
        "colab": {
          "base_uri": "https://localhost:8080/",
          "height": 88
        },
        "id": "5yB7avHXowWH",
        "outputId": "26f87ad2-305c-4a7b-9e5c-6d84a66dd8fb"
      },
      "execution_count": null,
      "outputs": [
        {
          "output_type": "execute_result",
          "data": {
            "text/plain": [
              "'arXiv:2304.09697v1  [cs.PL]  19 Apr 2023A CALCULUS FOR SCOPED EFFECTS & HANDLERS\\nROGER BOSMANa, BIRTHE VAN DEN BERGa, WENHAO TANGb,\\nAND TOM SCHRIJVERSa\\naKU Leuven, Celestijnenlaan 200A\\ne-mail address :{roger.bosman/birthe.vandenberg/tom.schrijvers }@kuleuven.be\\nbThe University of Edinburgh, 10 Crichton Street\\ne-mail address : wenhao.tang@ed.ac.uk\\nAbstract. Algebraic eﬀects & handlers have become a standard approach for side-eﬀects\\nin functional programming. Their modular composition with other e'"
            ],
            "application/vnd.google.colaboratory.intrinsic+json": {
              "type": "string"
            }
          },
          "metadata": {},
          "execution_count": 8
        }
      ]
    },
    {
      "cell_type": "code",
      "source": [
        "text_splitter = CharacterTextSplitter(\n",
        "    separator = \"\\n\",\n",
        "    chunk_size = 1000,\n",
        "    chunk_overlap = 200,\n",
        "    length_function = len,\n",
        ")\n",
        "\n",
        "texts = text_splitter.split_text(raw_text)\n"
      ],
      "metadata": {
        "id": "9n5vMahto0Kf"
      },
      "execution_count": null,
      "outputs": []
    },
    {
      "cell_type": "code",
      "source": [
        "len(texts)"
      ],
      "metadata": {
        "colab": {
          "base_uri": "https://localhost:8080/"
        },
        "id": "e-oTXad9s1Sy",
        "outputId": "a11a3edc-3ae7-4ac7-b320-20160d4486e8"
      },
      "execution_count": null,
      "outputs": [
        {
          "output_type": "execute_result",
          "data": {
            "text/plain": [
              "213"
            ]
          },
          "metadata": {},
          "execution_count": 10
        }
      ]
    },
    {
      "cell_type": "code",
      "source": [
        "texts[0]"
      ],
      "metadata": {
        "colab": {
          "base_uri": "https://localhost:8080/",
          "height": 140
        },
        "id": "wHnP6L8_s2dO",
        "outputId": "027ba46b-7e23-4fb9-d689-7c826f4e4acf"
      },
      "execution_count": null,
      "outputs": [
        {
          "output_type": "execute_result",
          "data": {
            "text/plain": [
              "'arXiv:2304.09697v1  [cs.PL]  19 Apr 2023A CALCULUS FOR SCOPED EFFECTS & HANDLERS\\nROGER BOSMANa, BIRTHE VAN DEN BERGa, WENHAO TANGb,\\nAND TOM SCHRIJVERSa\\naKU Leuven, Celestijnenlaan 200A\\ne-mail address :{roger.bosman/birthe.vandenberg/tom.schrijvers }@kuleuven.be\\nbThe University of Edinburgh, 10 Crichton Street\\ne-mail address : wenhao.tang@ed.ac.uk\\nAbstract. Algebraic eﬀects & handlers have become a standard approach for side-eﬀects\\nin functional programming. Their modular composition with other eﬀects and clean sepa-\\nration of syntax and semantics make them attractive to a wide audience. However, not all\\neﬀects can be classiﬁed as algebraic; some need a more sophis ticated handling. In partic-\\nular, eﬀects that have or create a delimited scope need speci al care, as their continuation\\nconsists of two parts—in and out of the scope—and their modul ar composition introduces\\nadditional complexity. These eﬀects are called scopedand have gained attention by their'"
            ],
            "application/vnd.google.colaboratory.intrinsic+json": {
              "type": "string"
            }
          },
          "metadata": {},
          "execution_count": 11
        }
      ]
    },
    {
      "cell_type": "code",
      "source": [
        "embeddings = OpenAIEmbeddings()"
      ],
      "metadata": {
        "id": "c-LQBl-TtC4L"
      },
      "execution_count": null,
      "outputs": []
    },
    {
      "cell_type": "code",
      "source": [
        "docsearch = FAISS.from_texts(texts, embeddings)"
      ],
      "metadata": {
        "id": "CZ2OLgjovj_3"
      },
      "execution_count": null,
      "outputs": []
    },
    {
      "cell_type": "code",
      "source": [
        "docsearch"
      ],
      "metadata": {
        "colab": {
          "base_uri": "https://localhost:8080/"
        },
        "id": "OiiLHKoavou3",
        "outputId": "cfb1005a-b0f5-4eab-d017-17d4fb58efe3"
      },
      "execution_count": null,
      "outputs": [
        {
          "output_type": "execute_result",
          "data": {
            "text/plain": [
              "<langchain.vectorstores.faiss.FAISS at 0x7f71a112e580>"
            ]
          },
          "metadata": {},
          "execution_count": 14
        }
      ]
    },
    {
      "cell_type": "code",
      "source": [
        "from langchain.chains.question_answering import load_qa_chain\n",
        "from langchain.llms import OpenAI"
      ],
      "metadata": {
        "id": "hgki7xE4vqZK"
      },
      "execution_count": null,
      "outputs": []
    },
    {
      "cell_type": "code",
      "source": [
        "chain = load_qa_chain(OpenAI(), chain_type = \"stuff\")"
      ],
      "metadata": {
        "id": "OD7sdDaHv3RV"
      },
      "execution_count": null,
      "outputs": []
    },
    {
      "cell_type": "code",
      "source": [
        "query = \"explain calculus\" #\"give a summary of the paper\"\n",
        "docs = docsearch.similarity_search(query)\n",
        "chain.run(input_documents = docs, question=query)"
      ],
      "metadata": {
        "colab": {
          "base_uri": "https://localhost:8080/",
          "height": 70
        },
        "id": "perUAB9Bzm59",
        "outputId": "21aea6a4-25e5-4636-ba0a-ee68c4e6167c"
      },
      "execution_count": null,
      "outputs": [
        {
          "output_type": "execute_result",
          "data": {
            "text/plain": [
              "' Calculus is a branch of mathematics that is used to study the behavior of functions through the use of limits, derivatives, integrals, and other mathematical tools. It is used in many areas of science and engineering, such as physics, engineering, economics, and finance. It is also used to solve problems in mathematics and computer science.'"
            ],
            "application/vnd.google.colaboratory.intrinsic+json": {
              "type": "string"
            }
          },
          "metadata": {},
          "execution_count": 22
        }
      ]
    },
    {
      "cell_type": "code",
      "source": [],
      "metadata": {
        "id": "L9_sCB8-z4Ew"
      },
      "execution_count": null,
      "outputs": []
    },
    {
      "cell_type": "code",
      "source": [],
      "metadata": {
        "id": "XmGaguRDAvhj"
      },
      "execution_count": null,
      "outputs": []
    }
  ]
}