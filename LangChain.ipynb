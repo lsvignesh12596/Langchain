{
  "nbformat": 4,
  "nbformat_minor": 0,
  "metadata": {
    "colab": {
      "provenance": [],
      "authorship_tag": "ABX9TyPTIxlRF5X8I1TD2V+UtyXV"
    },
    "kernelspec": {
      "name": "python3",
      "display_name": "Python 3"
    },
    "language_info": {
      "name": "python"
    }
  },
  "cells": [
    {
      "cell_type": "markdown",
      "source": [
        "# Parsing SQL Data"
      ],
      "metadata": {
        "id": "iOT6xn5_gqXR"
      }
    },
    {
      "cell_type": "code",
      "execution_count": null,
      "metadata": {
        "id": "eIC1heY2Td8t"
      },
      "outputs": [],
      "source": [
        "!pip install langchain\n",
        "!pip install openai"
      ]
    },
    {
      "cell_type": "code",
      "source": [
        "from langchain import OpenAI, SQLDatabase, SQLDatabaseChain"
      ],
      "metadata": {
        "id": "4lZQP5PFTmVs"
      },
      "execution_count": null,
      "outputs": []
    },
    {
      "cell_type": "code",
      "source": [
        "Server = \"\"\n",
        "Database = \"\"\n",
        "Driver = \"\"\n",
        "Username = \"\"\n",
        "Password = \"\"\n",
        "db_conn = f\"mssql://{Username}:{Password}@{Server}/{Database}?driver={Driver}\"\n",
        "\n",
        "db = SQLDatabase.from_uri(db_conn)\n",
        "llm = OpenAI(temperature=0)"
      ],
      "metadata": {
        "id": "gaWfBs_FUC50"
      },
      "execution_count": null,
      "outputs": []
    },
    {
      "cell_type": "code",
      "source": [
        "db_chain = SQLDatabaseChain(llm=llm, database=db, verbose=True)"
      ],
      "metadata": {
        "id": "wXn8BlbqZYCE"
      },
      "execution_count": null,
      "outputs": []
    },
    {
      "cell_type": "code",
      "source": [
        "query = \"\"\n",
        "db_chain.run(query)"
      ],
      "metadata": {
        "id": "WAh07kH1WqPJ"
      },
      "execution_count": null,
      "outputs": []
    },
    {
      "cell_type": "markdown",
      "source": [
        "# Analyzing Tabular Data - Approach1"
      ],
      "metadata": {
        "id": "bqYCCS_cjG5V"
      }
    },
    {
      "cell_type": "code",
      "source": [
        "!pip install langchain\n",
        "!pip install openai\n",
        "!pip install chromadb\n",
        "!pip install tiktoken"
      ],
      "metadata": {
        "id": "p8O3GbOXDA1G"
      },
      "execution_count": null,
      "outputs": []
    },
    {
      "cell_type": "code",
      "source": [
        "from langchain.document_loaders import CSVLoader\n",
        "from langchain.indexes import VectorstoreIndexCreator\n",
        "from langchain.chains import RetrievalQA\n",
        "from langchain.llms import OpenAI"
      ],
      "metadata": {
        "id": "eS3vEvcgjJE5"
      },
      "execution_count": null,
      "outputs": []
    },
    {
      "cell_type": "code",
      "source": [
        "import os\n",
        "os.environ['OPENAI_API_KEY'] = \"\""
      ],
      "metadata": {
        "id": "tVz7RBWUoC1x"
      },
      "execution_count": null,
      "outputs": []
    },
    {
      "cell_type": "code",
      "source": [
        "!wget https://raw.githubusercontent.com/datasciencedojo/datasets/master/titanic.csv"
      ],
      "metadata": {
        "colab": {
          "base_uri": "https://localhost:8080/"
        },
        "id": "crIDqdhglQj3",
        "outputId": "4abfc4b0-e0e9-47d4-fd77-4836f7349f3d"
      },
      "execution_count": null,
      "outputs": [
        {
          "output_type": "stream",
          "name": "stdout",
          "text": [
            "--2023-04-23 07:37:22--  https://raw.githubusercontent.com/datasciencedojo/datasets/master/titanic.csv\n",
            "Resolving raw.githubusercontent.com (raw.githubusercontent.com)... 185.199.111.133, 185.199.108.133, 185.199.109.133, ...\n",
            "Connecting to raw.githubusercontent.com (raw.githubusercontent.com)|185.199.111.133|:443... connected.\n",
            "HTTP request sent, awaiting response... 200 OK\n",
            "Length: 60302 (59K) [text/plain]\n",
            "Saving to: ‘titanic.csv’\n",
            "\n",
            "\rtitanic.csv           0%[                    ]       0  --.-KB/s               \rtitanic.csv         100%[===================>]  58.89K  --.-KB/s    in 0.007s  \n",
            "\n",
            "2023-04-23 07:37:23 (8.21 MB/s) - ‘titanic.csv’ saved [60302/60302]\n",
            "\n"
          ]
        }
      ]
    },
    {
      "cell_type": "code",
      "source": [
        "loader = CSVLoader(file_path='titanic.csv')"
      ],
      "metadata": {
        "id": "a46Y6z1Qlc0k"
      },
      "execution_count": null,
      "outputs": []
    },
    {
      "cell_type": "code",
      "source": [
        "index_creator = VectorstoreIndexCreator()\n",
        "doc_search = index_creator.from_loaders([loader])"
      ],
      "metadata": {
        "colab": {
          "base_uri": "https://localhost:8080/"
        },
        "id": "AtzDKgyeloCf",
        "outputId": "bd9d0846-8aa1-4023-805a-e734e75668a2"
      },
      "execution_count": null,
      "outputs": [
        {
          "output_type": "stream",
          "name": "stderr",
          "text": [
            "WARNING:chromadb:Using embedded DuckDB without persistence: data will be transient\n"
          ]
        }
      ]
    },
    {
      "cell_type": "code",
      "source": [
        "chain =RetrievalQA.from_chain_type(llm=OpenAI(), chain_type=\"stuff\", retriever=doc_search.vectorstore.as_retriever(), input_key = \"question\", verbose=True)"
      ],
      "metadata": {
        "id": "CrgqYi7ooSOQ"
      },
      "execution_count": null,
      "outputs": []
    },
    {
      "cell_type": "code",
      "source": [
        "query =  \"impute average age for the missing values in the Age columnn and tell the new average age\" #\"how many rows and columns are present in this dataset\"   #\"run df.info() on the entire data and write your observations\"\n",
        "response = chain({\"question\":query})\n",
        "print(response['result'])"
      ],
      "metadata": {
        "colab": {
          "base_uri": "https://localhost:8080/"
        },
        "id": "EwkCmUvNrjqk",
        "outputId": "e2bdaa76-a4bb-42a8-8f0e-1ef4e64a5b25"
      },
      "execution_count": null,
      "outputs": [
        {
          "output_type": "stream",
          "name": "stdout",
          "text": [
            "\n",
            "\n",
            "\u001b[1m> Entering new RetrievalQA chain...\u001b[0m\n",
            "\n",
            "\u001b[1m> Finished chain.\u001b[0m\n",
            " The average age for the missing values can be calculated by taking the average of the ages of the passengers that were given. The average age of the passengers provided is 27.5, so the imputed average age for the missing values in the Age column is 27.5.\n"
          ]
        }
      ]
    },
    {
      "cell_type": "markdown",
      "source": [
        "# Analyzing Tabular Data - Approach2"
      ],
      "metadata": {
        "id": "CfzK6uiK0Nxk"
      }
    },
    {
      "cell_type": "code",
      "source": [
        "!pip install openai\n",
        "!pip install langchain"
      ],
      "metadata": {
        "id": "MqPBiupQ4TCN"
      },
      "execution_count": null,
      "outputs": []
    },
    {
      "cell_type": "code",
      "source": [
        "import os\n",
        "os.environ['OPENAI_API_KEY'] = \"\""
      ],
      "metadata": {
        "id": "LvTU0v_U5D9M"
      },
      "execution_count": 7,
      "outputs": []
    },
    {
      "cell_type": "code",
      "source": [
        "from langchain.llms import OpenAI\n",
        "from langchain.agents import create_pandas_dataframe_agent\n",
        "import pandas as pd"
      ],
      "metadata": {
        "id": "Q0Z9JVWPr5zy"
      },
      "execution_count": 8,
      "outputs": []
    },
    {
      "cell_type": "code",
      "source": [
        "df = pd.DataFrame({\n",
        "    \"Name\" : [\"Alice\", \"Bob\", \"James\", \"James\"],\n",
        "    \"Age\" : [32, 25, 56, 23],\n",
        "    \"City\" : [\"New York\", \"Sydney\", \"Delhi\", \"New York\"]\n",
        "})"
      ],
      "metadata": {
        "id": "O7tXaYdZ9QB-"
      },
      "execution_count": 9,
      "outputs": []
    },
    {
      "cell_type": "code",
      "source": [
        "agent = create_pandas_dataframe_agent(OpenAI(temperature=0, model_kwargs = {\"model\":'text-davinci-003'}), df, verbose=True)\n",
        "# agent = create_pandas_dataframe_agent(OpenAI(temperature=0, model ='text-davinci-003'), df, verbose=True)"
      ],
      "metadata": {
        "id": "bZpnQUL30itE"
      },
      "execution_count": 11,
      "outputs": []
    },
    {
      "cell_type": "code",
      "source": [
        "agent.run(\"Give the list of names after sorting the age in ascending order\")"
      ],
      "metadata": {
        "colab": {
          "base_uri": "https://localhost:8080/",
          "height": 35
        },
        "id": "t_02pvHh-X87",
        "outputId": "644760a0-035a-4204-84e2-f270ae74d879"
      },
      "execution_count": null,
      "outputs": [
        {
          "output_type": "execute_result",
          "data": {
            "text/plain": [
              "\"['James', 'Bob', 'Alice', 'James']\""
            ],
            "application/vnd.google.colaboratory.intrinsic+json": {
              "type": "string"
            }
          },
          "metadata": {},
          "execution_count": 41
        }
      ]
    },
    {
      "cell_type": "code",
      "source": [
        "agent.run(\"Sort the information by age ascending order\")"
      ],
      "metadata": {
        "colab": {
          "base_uri": "https://localhost:8080/",
          "height": 52
        },
        "id": "CNfA8xof-NaC",
        "outputId": "c300107b-5497-4eb1-c050-4538c9dad9b1"
      },
      "execution_count": null,
      "outputs": [
        {
          "output_type": "execute_result",
          "data": {
            "text/plain": [
              "'The dataframe sorted by age in ascending order is:\\n    Name  Age      City\\n3  James   23  New York\\n1    Bob   25    Sydney\\n0  Alice   32  New York\\n2  James   56     Delhi'"
            ],
            "application/vnd.google.colaboratory.intrinsic+json": {
              "type": "string"
            }
          },
          "metadata": {},
          "execution_count": 36
        }
      ]
    },
    {
      "cell_type": "code",
      "source": [
        "agent.run(\"Who are the 2 people with the same name\")"
      ],
      "metadata": {
        "colab": {
          "base_uri": "https://localhost:8080/",
          "height": 35
        },
        "id": "lEANWbqz9638",
        "outputId": "ff88587a-5a67-4d5f-fe64-098a6a03601a"
      },
      "execution_count": null,
      "outputs": [
        {
          "output_type": "execute_result",
          "data": {
            "text/plain": [
              "'James (age 56) and James (age 23)'"
            ],
            "application/vnd.google.colaboratory.intrinsic+json": {
              "type": "string"
            }
          },
          "metadata": {},
          "execution_count": 35
        }
      ]
    },
    {
      "cell_type": "code",
      "source": [
        "agent.run(\"What does the data represent?\")"
      ],
      "metadata": {
        "colab": {
          "base_uri": "https://localhost:8080/",
          "height": 313
        },
        "id": "Mc6ZADO89suO",
        "outputId": "930e3f64-917d-45d3-bf54-151085570b16"
      },
      "execution_count": null,
      "outputs": [
        {
          "output_type": "stream",
          "name": "stdout",
          "text": [
            "\n",
            "\n",
            "\u001b[1m> Entering new AgentExecutor chain...\u001b[0m\n",
            "\u001b[32;1m\u001b[1;3mThought: I need to look at the data to understand what it represents\n",
            "Action: python_repl_ast\n",
            "Action Input: print(df.head())\u001b[0m    Name  Age      City\n",
            "0  Alice   32  New York\n",
            "1    Bob   25    Sydney\n",
            "2  James   56     Delhi\n",
            "3  James   23  New York\n",
            "\n",
            "Observation: \u001b[36;1m\u001b[1;3mNone\u001b[0m\n",
            "Thought:\u001b[32;1m\u001b[1;3m I can see that the data represents the names, ages, and cities of four people\n",
            "Final Answer: The data represents the names, ages, and cities of four people.\u001b[0m\n",
            "\n",
            "\u001b[1m> Finished chain.\u001b[0m\n"
          ]
        },
        {
          "output_type": "execute_result",
          "data": {
            "text/plain": [
              "'The data represents the names, ages, and cities of four people.'"
            ],
            "application/vnd.google.colaboratory.intrinsic+json": {
              "type": "string"
            }
          },
          "metadata": {},
          "execution_count": 32
        }
      ]
    },
    {
      "cell_type": "code",
      "source": [
        "agent.run(\"what is the age of james staying in New York?\")"
      ],
      "metadata": {
        "colab": {
          "base_uri": "https://localhost:8080/",
          "height": 243
        },
        "id": "bsOLSD9U9ZNn",
        "outputId": "c8d1180f-f2ca-4f63-f089-5971c34349c7"
      },
      "execution_count": null,
      "outputs": [
        {
          "output_type": "stream",
          "name": "stdout",
          "text": [
            "\n",
            "\n",
            "\u001b[1m> Entering new AgentExecutor chain...\u001b[0m\n",
            "\u001b[32;1m\u001b[1;3mThought: I need to filter the dataframe to find James in New York\n",
            "Action: python_repl_ast\n",
            "Action Input: df[(df['Name'] == 'James') & (df['City'] == 'New York')]['Age']\u001b[0m\n",
            "Observation: \u001b[36;1m\u001b[1;3m3    23\n",
            "Name: Age, dtype: int64\u001b[0m\n",
            "Thought:\u001b[32;1m\u001b[1;3m I now know the final answer\n",
            "Final Answer: 23\u001b[0m\n",
            "\n",
            "\u001b[1m> Finished chain.\u001b[0m\n"
          ]
        },
        {
          "output_type": "execute_result",
          "data": {
            "text/plain": [
              "'23'"
            ],
            "application/vnd.google.colaboratory.intrinsic+json": {
              "type": "string"
            }
          },
          "metadata": {},
          "execution_count": 30
        }
      ]
    },
    {
      "cell_type": "code",
      "source": [
        "agent.run(\"how many rows and columns are present?\")"
      ],
      "metadata": {
        "id": "tOvE3QNj0w5y",
        "colab": {
          "base_uri": "https://localhost:8080/",
          "height": 226
        },
        "outputId": "44b99992-6b62-45b0-fb3a-a6881ae54f95"
      },
      "execution_count": null,
      "outputs": [
        {
          "output_type": "stream",
          "name": "stdout",
          "text": [
            "\n",
            "\n",
            "\u001b[1m> Entering new AgentExecutor chain...\u001b[0m\n",
            "\u001b[32;1m\u001b[1;3mThought: I need to find out the shape of the dataframe\n",
            "Action: python_repl_ast\n",
            "Action Input: df.shape\u001b[0m\n",
            "Observation: \u001b[36;1m\u001b[1;3m(3, 3)\u001b[0m\n",
            "Thought:\u001b[32;1m\u001b[1;3m I now know the final answer\n",
            "Final Answer: 3 rows and 3 columns\u001b[0m\n",
            "\n",
            "\u001b[1m> Finished chain.\u001b[0m\n"
          ]
        },
        {
          "output_type": "execute_result",
          "data": {
            "text/plain": [
              "'3 rows and 3 columns'"
            ],
            "application/vnd.google.colaboratory.intrinsic+json": {
              "type": "string"
            }
          },
          "metadata": {},
          "execution_count": 26
        }
      ]
    },
    {
      "cell_type": "markdown",
      "source": [
        "# OR"
      ],
      "metadata": {
        "id": "MThJD9cLK8rM"
      }
    },
    {
      "cell_type": "code",
      "source": [
        "df = pd.read_excel('/content/sales_data_sample - new.xlsx')"
      ],
      "metadata": {
        "id": "14tLcCUm0eT6"
      },
      "execution_count": 5,
      "outputs": []
    },
    {
      "cell_type": "code",
      "source": [
        "agent = create_pandas_dataframe_agent(OpenAI(temperature=0, model_kwargs = {\"model\":'text-davinci-003'}), df, verbose=True)\n",
        "# agent = create_pandas_dataframe_agent(OpenAI(temperature=0, model ='text-davinci-003'), df, verbose=True)"
      ],
      "metadata": {
        "id": "KdBKtjTI4yFy"
      },
      "execution_count": 6,
      "outputs": []
    },
    {
      "cell_type": "code",
      "source": [
        "agent.run(\"what is the total sales when country is USA and productline is motorcycles for the year 2003\")"
      ],
      "metadata": {
        "colab": {
          "base_uri": "https://localhost:8080/",
          "height": 35
        },
        "id": "2PAhDCymD7rs",
        "outputId": "8171d3f3-92f2-4fd4-b2fc-47f67070764c"
      },
      "execution_count": null,
      "outputs": [
        {
          "output_type": "execute_result",
          "data": {
            "text/plain": [
              "'The total sales when country is USA and productline is motorcycles for the year 2003 is 178108.95.'"
            ],
            "application/vnd.google.colaboratory.intrinsic+json": {
              "type": "string"
            }
          },
          "metadata": {},
          "execution_count": 51
        }
      ]
    },
    {
      "cell_type": "code",
      "source": [
        "agent.run(\"what is the total sales per quarter when country is USA and productline is motorcycles for the year 2003\")"
      ],
      "metadata": {
        "colab": {
          "base_uri": "https://localhost:8080/",
          "height": 52
        },
        "id": "5rmJ9CeID71y",
        "outputId": "b1e04b03-ef52-4cd9-f157-3f7dd88b5c90"
      },
      "execution_count": null,
      "outputs": [
        {
          "output_type": "execute_result",
          "data": {
            "text/plain": [
              "'The total sales per quarter when country is USA and productline is motorcycles for the year 2003 is 25783.76 for Q1, 59619.84 for Q3, and 92705.35 for Q4.'"
            ],
            "application/vnd.google.colaboratory.intrinsic+json": {
              "type": "string"
            }
          },
          "metadata": {},
          "execution_count": 50
        }
      ]
    },
    {
      "cell_type": "code",
      "source": [
        "agent.run(\"Display the top 5 records when country is USA and productline is motorcycles for the year 2003\")"
      ],
      "metadata": {
        "colab": {
          "base_uri": "https://localhost:8080/",
          "height": 732
        },
        "id": "4mhsq4hTFS7p",
        "outputId": "74c79225-336a-4d32-9e2e-5fe29ee5da21"
      },
      "execution_count": null,
      "outputs": [
        {
          "output_type": "stream",
          "name": "stdout",
          "text": [
            "\n",
            "\n",
            "\u001b[1m> Entering new AgentExecutor chain...\u001b[0m\n",
            "\u001b[32;1m\u001b[1;3mThought: I need to filter the dataframe to only include records with country USA and productline motorcycles for the year 2003\n",
            "Action: python_repl_ast\n",
            "Action Input: df[(df['COUNTRY'] == 'USA') & (df['PRODUCTLINE'] == 'Motorcycles') & (df['YEAR_ID'] == 2003)].head()\u001b[0m\n",
            "Observation: \u001b[36;1m\u001b[1;3m   ORDERNUMBER  QUANTITYORDERED  PRICEEACH  ORDERLINENUMBER    SALES  \\\n",
            "0        10107               30      95.70                2  2871.00   \n",
            "3        10145               45      83.26                6  3746.70   \n",
            "4        10159               49     100.00               14  5205.27   \n",
            "5        10168               36      96.66                1  3479.76   \n",
            "8        10201               22      98.57                2  2168.54   \n",
            "\n",
            "             ORDERDATE   STATUS  QTR_ID  MONTH_ID  YEAR_ID  ... ADDRESSLINE2  \\\n",
            "0       2/24/2003 0:00  Shipped       1         2     2003  ...          NaN   \n",
            "3       8/25/2003 0:00  Shipped       3         8     2003  ...          NaN   \n",
            "4  2003-10-10 00:00:00  Shipped       4        10     2003  ...          NaN   \n",
            "5      10/28/2003 0:00  Shipped       4        10     2003  ...          NaN   \n",
            "8  2003-01-12 00:00:00  Shipped       4        12     2003  ...          NaN   \n",
            "\n",
            "            CITY STATE POSTALCODE COUNTRY TERRITORY CONTACTLASTNAME  \\\n",
            "0            NYC    NY      10022     USA       NaN              Yu   \n",
            "3       Pasadena    CA      90003     USA       NaN           Young   \n",
            "4  San Francisco    CA        NaN     USA       NaN           Brown   \n",
            "5     Burlingame    CA      94217     USA       NaN          Hirano   \n",
            "8  San Francisco    CA        NaN     USA       NaN          Murphy   \n",
            "\n",
            "  CONTACTFIRSTNAME DEALSIZE DISCOUNT  \n",
            "0             Kwai    Small      5.0  \n",
            "3            Julie   Medium      6.0  \n",
            "4            Julie   Medium      9.0  \n",
            "5             Juri   Medium      6.0  \n",
            "8            Julie    Small     10.0  \n",
            "\n",
            "[5 rows x 26 columns]\u001b[0m\n",
            "Thought:\u001b[32;1m\u001b[1;3m I now know the final answer\n",
            "Final Answer: The top 5 records when country is USA and productline is motorcycles for the year 2003 are shown above.\u001b[0m\n",
            "\n",
            "\u001b[1m> Finished chain.\u001b[0m\n"
          ]
        },
        {
          "output_type": "execute_result",
          "data": {
            "text/plain": [
              "'The top 5 records when country is USA and productline is motorcycles for the year 2003 are shown above.'"
            ],
            "application/vnd.google.colaboratory.intrinsic+json": {
              "type": "string"
            }
          },
          "metadata": {},
          "execution_count": 11
        }
      ]
    },
    {
      "cell_type": "code",
      "source": [
        "#Q18\n",
        "agent.run(\"Retrieve a list of all orders where the sales amount is greater than $10,000 and Customer Name starts with mini. Use CONTACTNAME column.\")"
      ],
      "metadata": {
        "colab": {
          "base_uri": "https://localhost:8080/",
          "height": 226
        },
        "id": "lZi9ney7bwAq",
        "outputId": "93ff6b6e-f4ca-43a2-e98d-34209c64d753"
      },
      "execution_count": null,
      "outputs": [
        {
          "output_type": "stream",
          "name": "stdout",
          "text": [
            "\n",
            "\n",
            "\u001b[1m> Entering new AgentExecutor chain...\u001b[0m\n",
            "\u001b[32;1m\u001b[1;3mThought: I need to filter the dataframe to get the orders that meet the criteria.\n",
            "Action: python_repl_ast\n",
            "Action Input: df[(df['SALES'] > 10000) & (df['CONTACTNAME'].str.startswith('Mini'))]\u001b[0m\n",
            "Observation: \u001b[36;1m\u001b[1;3m'CONTACTNAME'\u001b[0m\n",
            "Thought:\u001b[32;1m\u001b[1;3m I now know the final answer\n",
            "Final Answer: df[(df['SALES'] > 10000) & (df['CONTACTNAME'].str.startswith('Mini'))]\u001b[0m\n",
            "\n",
            "\u001b[1m> Finished chain.\u001b[0m\n"
          ]
        },
        {
          "output_type": "execute_result",
          "data": {
            "text/plain": [
              "\"df[(df['SALES'] > 10000) & (df['CONTACTNAME'].str.startswith('Mini'))]\""
            ],
            "application/vnd.google.colaboratory.intrinsic+json": {
              "type": "string"
            }
          },
          "metadata": {},
          "execution_count": 17
        }
      ]
    },
    {
      "cell_type": "code",
      "source": [
        "#Q17\n",
        "agent.run(\"Display the average sales amount for each year.\")"
      ],
      "metadata": {
        "colab": {
          "base_uri": "https://localhost:8080/",
          "height": 295
        },
        "id": "wjoVP_kkc-MR",
        "outputId": "08eeefb8-91b5-400c-b740-46f75cfa7368"
      },
      "execution_count": null,
      "outputs": [
        {
          "output_type": "stream",
          "name": "stdout",
          "text": [
            "\n",
            "\n",
            "\u001b[1m> Entering new AgentExecutor chain...\u001b[0m\n",
            "\u001b[32;1m\u001b[1;3mThought: I need to group the data by year and calculate the average sales amount.\n",
            "Action: python_repl_ast\n",
            "Action Input: df.groupby('YEAR_ID')['SALES'].mean()\u001b[0m\n",
            "Observation: \u001b[36;1m\u001b[1;3mYEAR_ID\n",
            "2003    3516.979540\n",
            "2004    3512.388550\n",
            "2005    3747.880146\n",
            "Name: SALES, dtype: float64\u001b[0m\n",
            "Thought:\u001b[32;1m\u001b[1;3m I now know the average sales amount for each year.\n",
            "Final Answer: The average sales amount for each year is 2003: 3516.98, 2004: 3512.39, 2005: 3747.88.\u001b[0m\n",
            "\n",
            "\u001b[1m> Finished chain.\u001b[0m\n"
          ]
        },
        {
          "output_type": "execute_result",
          "data": {
            "text/plain": [
              "'The average sales amount for each year is 2003: 3516.98, 2004: 3512.39, 2005: 3747.88.'"
            ],
            "application/vnd.google.colaboratory.intrinsic+json": {
              "type": "string"
            }
          },
          "metadata": {},
          "execution_count": 18
        }
      ]
    },
    {
      "cell_type": "code",
      "source": [
        "#Q16\n",
        "agent.run(\"Show the total sales for the 3rd Quarter of year 2003 when product line is ships. Use YEAR_ID column to filter on year and QTR_ID column to filter on quarter\")"
      ],
      "metadata": {
        "colab": {
          "base_uri": "https://localhost:8080/",
          "height": 226
        },
        "id": "pM-dpY2geKCr",
        "outputId": "7d9ad38c-1af2-4f9e-859a-770344cb2461"
      },
      "execution_count": null,
      "outputs": [
        {
          "output_type": "stream",
          "name": "stdout",
          "text": [
            "\n",
            "\n",
            "\u001b[1m> Entering new AgentExecutor chain...\u001b[0m\n",
            "\u001b[32;1m\u001b[1;3mThought: I need to filter the dataframe by year and quarter, then sum the sales\n",
            "Action: python_repl_ast\n",
            "Action Input: df[(df['YEAR_ID'] == 2003) & (df['QTR_ID'] == 3) & (df['PRODUCTLINE'] == 'Ships')]['SALES'].sum()\u001b[0m\n",
            "Observation: \u001b[36;1m\u001b[1;3m46171.27\u001b[0m\n",
            "Thought:\u001b[32;1m\u001b[1;3m I now know the final answer\n",
            "Final Answer: The total sales for the 3rd Quarter of year 2003 when product line is ships is 46171.27.\u001b[0m\n",
            "\n",
            "\u001b[1m> Finished chain.\u001b[0m\n"
          ]
        },
        {
          "output_type": "execute_result",
          "data": {
            "text/plain": [
              "'The total sales for the 3rd Quarter of year 2003 when product line is ships is 46171.27.'"
            ],
            "application/vnd.google.colaboratory.intrinsic+json": {
              "type": "string"
            }
          },
          "metadata": {},
          "execution_count": 29
        }
      ]
    },
    {
      "cell_type": "code",
      "source": [
        "#Q14\n",
        "agent.run(\"Get the average sales amount for the customer 'Alpha Cognac' in the year 2005. Use CUSTOMERNAME column.\")"
      ],
      "metadata": {
        "colab": {
          "base_uri": "https://localhost:8080/",
          "height": 281
        },
        "id": "V2l7DqdIex2Z",
        "outputId": "b52b848e-e5fb-4c5f-9187-f91f09060b65"
      },
      "execution_count": null,
      "outputs": [
        {
          "output_type": "stream",
          "name": "stdout",
          "text": [
            "\n",
            "\n",
            "\u001b[1m> Entering new AgentExecutor chain...\u001b[0m\n",
            "\u001b[32;1m\u001b[1;3mThought: I need to filter the dataframe to only include rows with customer name 'Alpha Cognac' and year 2005.\n",
            "Action: python_repl_ast\n",
            "Action Input: df[(df['CUSTOMERNAME'] == 'Alpha Cognac') & (df['YEAR_ID'] == 2005)].mean()['SALES']\u001b[0m\n",
            "Observation: \u001b[36;1m\u001b[1;3m3027.8239999999996\u001b[0m\n",
            "Thought:"
          ]
        },
        {
          "output_type": "stream",
          "name": "stderr",
          "text": [
            "<string>:1: FutureWarning: The default value of numeric_only in DataFrame.mean is deprecated. In a future version, it will default to False. In addition, specifying 'numeric_only=None' is deprecated. Select only valid columns or specify the value of numeric_only to silence this warning.\n"
          ]
        },
        {
          "output_type": "stream",
          "name": "stdout",
          "text": [
            "\u001b[32;1m\u001b[1;3m I now know the final answer\n",
            "Final Answer: The average sales amount for the customer 'Alpha Cognac' in the year 2005 is 3027.824.\u001b[0m\n",
            "\n",
            "\u001b[1m> Finished chain.\u001b[0m\n"
          ]
        },
        {
          "output_type": "execute_result",
          "data": {
            "text/plain": [
              "\"The average sales amount for the customer 'Alpha Cognac' in the year 2005 is 3027.824.\""
            ],
            "application/vnd.google.colaboratory.intrinsic+json": {
              "type": "string"
            }
          },
          "metadata": {},
          "execution_count": 43
        }
      ]
    },
    {
      "cell_type": "code",
      "source": [
        "#Q14 - custom\n",
        "agent.run(\"Give me the list of sales amount for the customer 'Alpha Cognac' in the year 2005. Use CUSTOMERNAME column.\")"
      ],
      "metadata": {
        "colab": {
          "base_uri": "https://localhost:8080/",
          "height": 226
        },
        "id": "1gkAeAsw2AuC",
        "outputId": "bd236695-ac6f-4bc0-c151-5bfa7e458f94"
      },
      "execution_count": 11,
      "outputs": [
        {
          "output_type": "stream",
          "name": "stdout",
          "text": [
            "\n",
            "\n",
            "\u001b[1m> Entering new AgentExecutor chain...\u001b[0m\n",
            "\u001b[32;1m\u001b[1;3mThought: I need to filter the dataframe to get the rows with customer name 'Alpha Cognac' and year 2005.\n",
            "Action: python_repl_ast\n",
            "Action Input: df[(df['CUSTOMERNAME'] == 'Alpha Cognac') & (df['YEAR_ID'] == 2005)]['SALES'].tolist()\u001b[0m\n",
            "Observation: \u001b[36;1m\u001b[1;3m[2577.6, 1463.0, 5192.64, 3789.72, 2116.16]\u001b[0m\n",
            "Thought:\u001b[32;1m\u001b[1;3m I now know the final answer\n",
            "Final Answer: [2577.6, 1463.0, 5192.64, 3789.72, 2116.16]\u001b[0m\n",
            "\n",
            "\u001b[1m> Finished chain.\u001b[0m\n"
          ]
        },
        {
          "output_type": "execute_result",
          "data": {
            "text/plain": [
              "'[2577.6, 1463.0, 5192.64, 3789.72, 2116.16]'"
            ],
            "application/vnd.google.colaboratory.intrinsic+json": {
              "type": "string"
            }
          },
          "metadata": {},
          "execution_count": 11
        }
      ]
    },
    {
      "cell_type": "code",
      "source": [
        "#Q14 - custom\n",
        "agent.run(\"Give me the details of sales for the customer 'Alpha Cognac' in the year 2005. Use CUSTOMERNAME column.\")"
      ],
      "metadata": {
        "colab": {
          "base_uri": "https://localhost:8080/",
          "height": 732
        },
        "id": "7HAoQ1VW2jsH",
        "outputId": "e8dd72b0-a2aa-4a62-8a5f-b65e84955451"
      },
      "execution_count": 12,
      "outputs": [
        {
          "output_type": "stream",
          "name": "stdout",
          "text": [
            "\n",
            "\n",
            "\u001b[1m> Entering new AgentExecutor chain...\u001b[0m\n",
            "\u001b[32;1m\u001b[1;3mThought: I need to filter the dataframe to get the details of sales for the customer 'Alpha Cognac' in the year 2005.\n",
            "Action: python_repl_ast\n",
            "Action Input: df[(df['CUSTOMERNAME'] == 'Alpha Cognac') & (df['YEAR_ID'] == 2005)]\u001b[0m\n",
            "Observation: \u001b[36;1m\u001b[1;3m      ORDERNUMBER  QUANTITYORDERED  PRICEEACH  ORDERLINENUMBER    SALES  \\\n",
            "2532        10397               32      80.55                5  2577.60   \n",
            "2612        10397               22      66.50                4  1463.00   \n",
            "2715        10397               48     100.00                3  5192.64   \n",
            "2741        10397               36     100.00                2  3789.72   \n",
            "2821        10397               34      62.24                1  2116.16   \n",
            "\n",
            "           ORDERDATE   STATUS  QTR_ID  MONTH_ID  YEAR_ID  ... ADDRESSLINE2  \\\n",
            "2532  3/28/2005 0:00  Shipped       1         3     2005  ...          NaN   \n",
            "2612  3/28/2005 0:00  Shipped       1         3     2005  ...          NaN   \n",
            "2715  3/28/2005 0:00  Shipped       1         3     2005  ...          NaN   \n",
            "2741  3/28/2005 0:00  Shipped       1         3     2005  ...          NaN   \n",
            "2821  3/28/2005 0:00  Shipped       1         3     2005  ...          NaN   \n",
            "\n",
            "          CITY STATE POSTALCODE COUNTRY TERRITORY CONTACTLASTNAME  \\\n",
            "2532  Toulouse   NaN      31000  France      EMEA          Roulet   \n",
            "2612  Toulouse   NaN      31000  France      EMEA          Roulet   \n",
            "2715  Toulouse   NaN      31000  France      EMEA          Roulet   \n",
            "2741  Toulouse   NaN      31000  France      EMEA          Roulet   \n",
            "2821  Toulouse   NaN      31000  France      EMEA          Roulet   \n",
            "\n",
            "     CONTACTFIRSTNAME DEALSIZE DISCOUNT  \n",
            "2532          Annette    Small      8.0  \n",
            "2612          Annette    Small     10.0  \n",
            "2715          Annette   Medium      1.0  \n",
            "2741          Annette   Medium     10.0  \n",
            "2821          Annette    Small      1.0  \n",
            "\n",
            "[5 rows x 26 columns]\u001b[0m\n",
            "Thought:\u001b[32;1m\u001b[1;3m I now know the final answer\n",
            "Final Answer: The details of sales for the customer 'Alpha Cognac' in the year 2005 are shown in the output above.\u001b[0m\n",
            "\n",
            "\u001b[1m> Finished chain.\u001b[0m\n"
          ]
        },
        {
          "output_type": "execute_result",
          "data": {
            "text/plain": [
              "\"The details of sales for the customer 'Alpha Cognac' in the year 2005 are shown in the output above.\""
            ],
            "application/vnd.google.colaboratory.intrinsic+json": {
              "type": "string"
            }
          },
          "metadata": {},
          "execution_count": 12
        }
      ]
    },
    {
      "cell_type": "code",
      "source": [
        "#Q13\n",
        "agent.run(\"Show the total sales amount for each territory in the year 2003.\")"
      ],
      "metadata": {
        "colab": {
          "base_uri": "https://localhost:8080/",
          "height": 399
        },
        "id": "fR6SKg7ohSQB",
        "outputId": "d162bbeb-340d-4248-918e-ef19dff4ed88"
      },
      "execution_count": null,
      "outputs": [
        {
          "output_type": "stream",
          "name": "stdout",
          "text": [
            "\n",
            "\n",
            "\u001b[1m> Entering new AgentExecutor chain...\u001b[0m\n",
            "\u001b[32;1m\u001b[1;3mThought: I need to group the data by territory and year, and then sum the sales amount.\n",
            "Action: python_repl_ast\n",
            "Action Input: df.groupby(['TERRITORY', 'YEAR_ID'])['SALES'].sum()\u001b[0m\n",
            "Observation: \u001b[36;1m\u001b[1;3mTERRITORY  YEAR_ID\n",
            "APAC       2003        253134.45\n",
            "           2004        345307.83\n",
            "           2005        147679.55\n",
            "EMEA       2003       1660314.53\n",
            "           2004       2389128.89\n",
            "           2005        929828.99\n",
            "Japan      2003        243773.18\n",
            "           2004        168479.10\n",
            "           2005         42920.94\n",
            "Name: SALES, dtype: float64\u001b[0m\n",
            "Thought:\u001b[32;1m\u001b[1;3m I now know the total sales amount for each territory in the year 2003.\n",
            "Final Answer: APAC: 253134.45, EMEA: 1660314.53, Japan: 243773.18\u001b[0m\n",
            "\n",
            "\u001b[1m> Finished chain.\u001b[0m\n"
          ]
        },
        {
          "output_type": "execute_result",
          "data": {
            "text/plain": [
              "'APAC: 253134.45, EMEA: 1660314.53, Japan: 243773.18'"
            ],
            "application/vnd.google.colaboratory.intrinsic+json": {
              "type": "string"
            }
          },
          "metadata": {},
          "execution_count": 38
        }
      ]
    },
    {
      "cell_type": "code",
      "source": [
        "df.groupby(['TERRITORY', 'YEAR_ID'])['SALES'].sum()"
      ],
      "metadata": {
        "colab": {
          "base_uri": "https://localhost:8080/"
        },
        "id": "ZC1Q4rCyi4pj",
        "outputId": "e570dccb-e36d-4aee-ac30-54a4b1e0ab6e"
      },
      "execution_count": null,
      "outputs": [
        {
          "output_type": "execute_result",
          "data": {
            "text/plain": [
              "TERRITORY  YEAR_ID\n",
              "APAC       2003        253134.45\n",
              "           2004        345307.83\n",
              "           2005        147679.55\n",
              "EMEA       2003       1660314.53\n",
              "           2004       2389128.89\n",
              "           2005        929828.99\n",
              "Japan      2003        243773.18\n",
              "           2004        168479.10\n",
              "           2005         42920.94\n",
              "Name: SALES, dtype: float64"
            ]
          },
          "metadata": {},
          "execution_count": 39
        }
      ]
    },
    {
      "cell_type": "code",
      "source": [
        "df['TERRITORY'].value_counts()"
      ],
      "metadata": {
        "colab": {
          "base_uri": "https://localhost:8080/"
        },
        "id": "kum74afljX35",
        "outputId": "11ab0522-eafd-46bd-e06a-2f41588e3320"
      },
      "execution_count": null,
      "outputs": [
        {
          "output_type": "execute_result",
          "data": {
            "text/plain": [
              "EMEA     1407\n",
              "APAC      221\n",
              "Japan     121\n",
              "Name: TERRITORY, dtype: int64"
            ]
          },
          "metadata": {},
          "execution_count": 40
        }
      ]
    },
    {
      "cell_type": "code",
      "source": [
        "df.head()"
      ],
      "metadata": {
        "colab": {
          "base_uri": "https://localhost:8080/",
          "height": 438
        },
        "id": "JEezB_W9jc1F",
        "outputId": "e1c9fa06-d090-43a7-f7bf-84181aec8716"
      },
      "execution_count": null,
      "outputs": [
        {
          "output_type": "execute_result",
          "data": {
            "text/plain": [
              "   ORDERNUMBER  QUANTITYORDERED  PRICEEACH  ORDERLINENUMBER    SALES  \\\n",
              "0        10107               30      95.70                2  2871.00   \n",
              "1        10121               34      81.35                5  2765.90   \n",
              "2        10134               41      94.74                2  3884.34   \n",
              "3        10145               45      83.26                6  3746.70   \n",
              "4        10159               49     100.00               14  5205.27   \n",
              "\n",
              "             ORDERDATE   STATUS  QTR_ID  MONTH_ID  YEAR_ID  ... ADDRESSLINE2  \\\n",
              "0       2/24/2003 0:00  Shipped       1         2     2003  ...          NaN   \n",
              "1  2003-07-05 00:00:00  Shipped       2         5     2003  ...          NaN   \n",
              "2  2003-01-07 00:00:00  Shipped       3         7     2003  ...          NaN   \n",
              "3       8/25/2003 0:00  Shipped       3         8     2003  ...          NaN   \n",
              "4  2003-10-10 00:00:00  Shipped       4        10     2003  ...          NaN   \n",
              "\n",
              "            CITY STATE POSTALCODE COUNTRY TERRITORY CONTACTLASTNAME  \\\n",
              "0            NYC    NY      10022     USA       NaN              Yu   \n",
              "1          Reims   NaN      51100  France      EMEA         Henriot   \n",
              "2          Paris   NaN      75508  France      EMEA        Da Cunha   \n",
              "3       Pasadena    CA      90003     USA       NaN           Young   \n",
              "4  San Francisco    CA        NaN     USA       NaN           Brown   \n",
              "\n",
              "  CONTACTFIRSTNAME DEALSIZE DISCOUNT  \n",
              "0             Kwai    Small      5.0  \n",
              "1             Paul    Small      4.0  \n",
              "2           Daniel   Medium      1.0  \n",
              "3            Julie   Medium      6.0  \n",
              "4            Julie   Medium      9.0  \n",
              "\n",
              "[5 rows x 26 columns]"
            ],
            "text/html": [
              "\n",
              "  <div id=\"df-79d5dbcd-251e-4e5c-a4bc-e595b312a233\">\n",
              "    <div class=\"colab-df-container\">\n",
              "      <div>\n",
              "<style scoped>\n",
              "    .dataframe tbody tr th:only-of-type {\n",
              "        vertical-align: middle;\n",
              "    }\n",
              "\n",
              "    .dataframe tbody tr th {\n",
              "        vertical-align: top;\n",
              "    }\n",
              "\n",
              "    .dataframe thead th {\n",
              "        text-align: right;\n",
              "    }\n",
              "</style>\n",
              "<table border=\"1\" class=\"dataframe\">\n",
              "  <thead>\n",
              "    <tr style=\"text-align: right;\">\n",
              "      <th></th>\n",
              "      <th>ORDERNUMBER</th>\n",
              "      <th>QUANTITYORDERED</th>\n",
              "      <th>PRICEEACH</th>\n",
              "      <th>ORDERLINENUMBER</th>\n",
              "      <th>SALES</th>\n",
              "      <th>ORDERDATE</th>\n",
              "      <th>STATUS</th>\n",
              "      <th>QTR_ID</th>\n",
              "      <th>MONTH_ID</th>\n",
              "      <th>YEAR_ID</th>\n",
              "      <th>...</th>\n",
              "      <th>ADDRESSLINE2</th>\n",
              "      <th>CITY</th>\n",
              "      <th>STATE</th>\n",
              "      <th>POSTALCODE</th>\n",
              "      <th>COUNTRY</th>\n",
              "      <th>TERRITORY</th>\n",
              "      <th>CONTACTLASTNAME</th>\n",
              "      <th>CONTACTFIRSTNAME</th>\n",
              "      <th>DEALSIZE</th>\n",
              "      <th>DISCOUNT</th>\n",
              "    </tr>\n",
              "  </thead>\n",
              "  <tbody>\n",
              "    <tr>\n",
              "      <th>0</th>\n",
              "      <td>10107</td>\n",
              "      <td>30</td>\n",
              "      <td>95.70</td>\n",
              "      <td>2</td>\n",
              "      <td>2871.00</td>\n",
              "      <td>2/24/2003 0:00</td>\n",
              "      <td>Shipped</td>\n",
              "      <td>1</td>\n",
              "      <td>2</td>\n",
              "      <td>2003</td>\n",
              "      <td>...</td>\n",
              "      <td>NaN</td>\n",
              "      <td>NYC</td>\n",
              "      <td>NY</td>\n",
              "      <td>10022</td>\n",
              "      <td>USA</td>\n",
              "      <td>NaN</td>\n",
              "      <td>Yu</td>\n",
              "      <td>Kwai</td>\n",
              "      <td>Small</td>\n",
              "      <td>5.0</td>\n",
              "    </tr>\n",
              "    <tr>\n",
              "      <th>1</th>\n",
              "      <td>10121</td>\n",
              "      <td>34</td>\n",
              "      <td>81.35</td>\n",
              "      <td>5</td>\n",
              "      <td>2765.90</td>\n",
              "      <td>2003-07-05 00:00:00</td>\n",
              "      <td>Shipped</td>\n",
              "      <td>2</td>\n",
              "      <td>5</td>\n",
              "      <td>2003</td>\n",
              "      <td>...</td>\n",
              "      <td>NaN</td>\n",
              "      <td>Reims</td>\n",
              "      <td>NaN</td>\n",
              "      <td>51100</td>\n",
              "      <td>France</td>\n",
              "      <td>EMEA</td>\n",
              "      <td>Henriot</td>\n",
              "      <td>Paul</td>\n",
              "      <td>Small</td>\n",
              "      <td>4.0</td>\n",
              "    </tr>\n",
              "    <tr>\n",
              "      <th>2</th>\n",
              "      <td>10134</td>\n",
              "      <td>41</td>\n",
              "      <td>94.74</td>\n",
              "      <td>2</td>\n",
              "      <td>3884.34</td>\n",
              "      <td>2003-01-07 00:00:00</td>\n",
              "      <td>Shipped</td>\n",
              "      <td>3</td>\n",
              "      <td>7</td>\n",
              "      <td>2003</td>\n",
              "      <td>...</td>\n",
              "      <td>NaN</td>\n",
              "      <td>Paris</td>\n",
              "      <td>NaN</td>\n",
              "      <td>75508</td>\n",
              "      <td>France</td>\n",
              "      <td>EMEA</td>\n",
              "      <td>Da Cunha</td>\n",
              "      <td>Daniel</td>\n",
              "      <td>Medium</td>\n",
              "      <td>1.0</td>\n",
              "    </tr>\n",
              "    <tr>\n",
              "      <th>3</th>\n",
              "      <td>10145</td>\n",
              "      <td>45</td>\n",
              "      <td>83.26</td>\n",
              "      <td>6</td>\n",
              "      <td>3746.70</td>\n",
              "      <td>8/25/2003 0:00</td>\n",
              "      <td>Shipped</td>\n",
              "      <td>3</td>\n",
              "      <td>8</td>\n",
              "      <td>2003</td>\n",
              "      <td>...</td>\n",
              "      <td>NaN</td>\n",
              "      <td>Pasadena</td>\n",
              "      <td>CA</td>\n",
              "      <td>90003</td>\n",
              "      <td>USA</td>\n",
              "      <td>NaN</td>\n",
              "      <td>Young</td>\n",
              "      <td>Julie</td>\n",
              "      <td>Medium</td>\n",
              "      <td>6.0</td>\n",
              "    </tr>\n",
              "    <tr>\n",
              "      <th>4</th>\n",
              "      <td>10159</td>\n",
              "      <td>49</td>\n",
              "      <td>100.00</td>\n",
              "      <td>14</td>\n",
              "      <td>5205.27</td>\n",
              "      <td>2003-10-10 00:00:00</td>\n",
              "      <td>Shipped</td>\n",
              "      <td>4</td>\n",
              "      <td>10</td>\n",
              "      <td>2003</td>\n",
              "      <td>...</td>\n",
              "      <td>NaN</td>\n",
              "      <td>San Francisco</td>\n",
              "      <td>CA</td>\n",
              "      <td>NaN</td>\n",
              "      <td>USA</td>\n",
              "      <td>NaN</td>\n",
              "      <td>Brown</td>\n",
              "      <td>Julie</td>\n",
              "      <td>Medium</td>\n",
              "      <td>9.0</td>\n",
              "    </tr>\n",
              "  </tbody>\n",
              "</table>\n",
              "<p>5 rows × 26 columns</p>\n",
              "</div>\n",
              "      <button class=\"colab-df-convert\" onclick=\"convertToInteractive('df-79d5dbcd-251e-4e5c-a4bc-e595b312a233')\"\n",
              "              title=\"Convert this dataframe to an interactive table.\"\n",
              "              style=\"display:none;\">\n",
              "        \n",
              "  <svg xmlns=\"http://www.w3.org/2000/svg\" height=\"24px\"viewBox=\"0 0 24 24\"\n",
              "       width=\"24px\">\n",
              "    <path d=\"M0 0h24v24H0V0z\" fill=\"none\"/>\n",
              "    <path d=\"M18.56 5.44l.94 2.06.94-2.06 2.06-.94-2.06-.94-.94-2.06-.94 2.06-2.06.94zm-11 1L8.5 8.5l.94-2.06 2.06-.94-2.06-.94L8.5 2.5l-.94 2.06-2.06.94zm10 10l.94 2.06.94-2.06 2.06-.94-2.06-.94-.94-2.06-.94 2.06-2.06.94z\"/><path d=\"M17.41 7.96l-1.37-1.37c-.4-.4-.92-.59-1.43-.59-.52 0-1.04.2-1.43.59L10.3 9.45l-7.72 7.72c-.78.78-.78 2.05 0 2.83L4 21.41c.39.39.9.59 1.41.59.51 0 1.02-.2 1.41-.59l7.78-7.78 2.81-2.81c.8-.78.8-2.07 0-2.86zM5.41 20L4 18.59l7.72-7.72 1.47 1.35L5.41 20z\"/>\n",
              "  </svg>\n",
              "      </button>\n",
              "      \n",
              "  <style>\n",
              "    .colab-df-container {\n",
              "      display:flex;\n",
              "      flex-wrap:wrap;\n",
              "      gap: 12px;\n",
              "    }\n",
              "\n",
              "    .colab-df-convert {\n",
              "      background-color: #E8F0FE;\n",
              "      border: none;\n",
              "      border-radius: 50%;\n",
              "      cursor: pointer;\n",
              "      display: none;\n",
              "      fill: #1967D2;\n",
              "      height: 32px;\n",
              "      padding: 0 0 0 0;\n",
              "      width: 32px;\n",
              "    }\n",
              "\n",
              "    .colab-df-convert:hover {\n",
              "      background-color: #E2EBFA;\n",
              "      box-shadow: 0px 1px 2px rgba(60, 64, 67, 0.3), 0px 1px 3px 1px rgba(60, 64, 67, 0.15);\n",
              "      fill: #174EA6;\n",
              "    }\n",
              "\n",
              "    [theme=dark] .colab-df-convert {\n",
              "      background-color: #3B4455;\n",
              "      fill: #D2E3FC;\n",
              "    }\n",
              "\n",
              "    [theme=dark] .colab-df-convert:hover {\n",
              "      background-color: #434B5C;\n",
              "      box-shadow: 0px 1px 3px 1px rgba(0, 0, 0, 0.15);\n",
              "      filter: drop-shadow(0px 1px 2px rgba(0, 0, 0, 0.3));\n",
              "      fill: #FFFFFF;\n",
              "    }\n",
              "  </style>\n",
              "\n",
              "      <script>\n",
              "        const buttonEl =\n",
              "          document.querySelector('#df-79d5dbcd-251e-4e5c-a4bc-e595b312a233 button.colab-df-convert');\n",
              "        buttonEl.style.display =\n",
              "          google.colab.kernel.accessAllowed ? 'block' : 'none';\n",
              "\n",
              "        async function convertToInteractive(key) {\n",
              "          const element = document.querySelector('#df-79d5dbcd-251e-4e5c-a4bc-e595b312a233');\n",
              "          const dataTable =\n",
              "            await google.colab.kernel.invokeFunction('convertToInteractive',\n",
              "                                                     [key], {});\n",
              "          if (!dataTable) return;\n",
              "\n",
              "          const docLinkHtml = 'Like what you see? Visit the ' +\n",
              "            '<a target=\"_blank\" href=https://colab.research.google.com/notebooks/data_table.ipynb>data table notebook</a>'\n",
              "            + ' to learn more about interactive tables.';\n",
              "          element.innerHTML = '';\n",
              "          dataTable['output_type'] = 'display_data';\n",
              "          await google.colab.output.renderOutput(dataTable, element);\n",
              "          const docLink = document.createElement('div');\n",
              "          docLink.innerHTML = docLinkHtml;\n",
              "          element.appendChild(docLink);\n",
              "        }\n",
              "      </script>\n",
              "    </div>\n",
              "  </div>\n",
              "  "
            ]
          },
          "metadata": {},
          "execution_count": 41
        }
      ]
    },
    {
      "cell_type": "code",
      "source": [
        "#Q12 - A\n",
        "agent.run(\"Display the average sales amount of each month of the year 2004 when product is Motorcycles.\")"
      ],
      "metadata": {
        "colab": {
          "base_uri": "https://localhost:8080/",
          "height": 506
        },
        "id": "XD5vn1aejigh",
        "outputId": "11b48908-6d70-49fc-cdd1-9ed577a7fa05"
      },
      "execution_count": null,
      "outputs": [
        {
          "output_type": "stream",
          "name": "stdout",
          "text": [
            "\n",
            "\n",
            "\u001b[1m> Entering new AgentExecutor chain...\u001b[0m\n",
            "\u001b[32;1m\u001b[1;3mThought: I need to filter the dataframe to only include 2004 and Motorcycles, then calculate the average sales amount for each month.\n",
            "Action: python_repl_ast\n",
            "Action Input: df[(df['YEAR_ID'] == 2004) & (df['PRODUCTLINE'] == 'Motorcycles')].groupby('MONTH_ID')['SALES'].mean()\u001b[0m\n",
            "Observation: \u001b[36;1m\u001b[1;3mMONTH_ID\n",
            "1     3169.270769\n",
            "2     3774.346154\n",
            "4     2789.928462\n",
            "5     3603.765385\n",
            "6     3633.646923\n",
            "7     3253.428571\n",
            "8     3300.259474\n",
            "9     3267.003846\n",
            "10    3031.843077\n",
            "11    3890.047692\n",
            "12    2605.872500\n",
            "Name: SALES, dtype: float64\u001b[0m\n",
            "Thought:\u001b[32;1m\u001b[1;3m I now know the average sales amount of each month of the year 2004 when product is Motorcycles.\n",
            "Final Answer: The average sales amount of each month of the year 2004 when product is Motorcycles is 3169.270769 for January, 3774.346154 for February, 2789.928462 for April, 3603.765385 for May, 3633.646923 for June, 3253.428571 for July, 3300.259474 for August, 3267.003846 for September, 3031.843077 for October, 3890.047692 for November, and 2605.872500 for December.\u001b[0m\n",
            "\n",
            "\u001b[1m> Finished chain.\u001b[0m\n"
          ]
        },
        {
          "output_type": "execute_result",
          "data": {
            "text/plain": [
              "'The average sales amount of each month of the year 2004 when product is Motorcycles is 3169.270769 for January, 3774.346154 for February, 2789.928462 for April, 3603.765385 for May, 3633.646923 for June, 3253.428571 for July, 3300.259474 for August, 3267.003846 for September, 3031.843077 for October, 3890.047692 for November, and 2605.872500 for December.'"
            ],
            "application/vnd.google.colaboratory.intrinsic+json": {
              "type": "string"
            }
          },
          "metadata": {},
          "execution_count": 45
        }
      ]
    },
    {
      "cell_type": "code",
      "source": [
        "#Q12 - B\n",
        "agent.run(\"Display the average sales amount of each quarter of the year 2004 when product is Motorcycles.\")"
      ],
      "metadata": {
        "colab": {
          "base_uri": "https://localhost:8080/",
          "height": 350
        },
        "id": "LfyCd0XVkv_E",
        "outputId": "364ea32c-7044-455d-cd97-b68c099c730b"
      },
      "execution_count": null,
      "outputs": [
        {
          "output_type": "stream",
          "name": "stdout",
          "text": [
            "\n",
            "\n",
            "\u001b[1m> Entering new AgentExecutor chain...\u001b[0m\n",
            "\u001b[32;1m\u001b[1;3mThought: I need to filter the dataframe to only include 2004 and Motorcycles, then calculate the average sales amount for each quarter.\n",
            "Action: python_repl_ast\n",
            "Action Input: df[(df['YEAR_ID'] == 2004) & (df['PRODUCTLINE'] == 'Motorcycles')].groupby('QTR_ID')['SALES'].mean()\u001b[0m\n",
            "Observation: \u001b[36;1m\u001b[1;3mQTR_ID\n",
            "1    3471.808462\n",
            "2    3342.446923\n",
            "3    3280.768718\n",
            "4    3532.880000\n",
            "Name: SALES, dtype: float64\u001b[0m\n",
            "Thought:\u001b[32;1m\u001b[1;3m I now know the average sales amount of each quarter of the year 2004 when product is Motorcycles.\n",
            "Final Answer: The average sales amount of each quarter of the year 2004 when product is Motorcycles is 3471.81, 3342.45, 3280.77, and 3532.88 respectively.\u001b[0m\n",
            "\n",
            "\u001b[1m> Finished chain.\u001b[0m\n"
          ]
        },
        {
          "output_type": "execute_result",
          "data": {
            "text/plain": [
              "'The average sales amount of each quarter of the year 2004 when product is Motorcycles is 3471.81, 3342.45, 3280.77, and 3532.88 respectively.'"
            ],
            "application/vnd.google.colaboratory.intrinsic+json": {
              "type": "string"
            }
          },
          "metadata": {},
          "execution_count": 46
        }
      ]
    },
    {
      "cell_type": "code",
      "source": [
        "#Q11\n",
        "agent.run(\"Show the total sales for each quarter of the year 2005\")"
      ],
      "metadata": {
        "colab": {
          "base_uri": "https://localhost:8080/",
          "height": 1000
        },
        "id": "sm5iWrBklGYE",
        "outputId": "87a7a7e0-c7a5-4182-ba45-f0b4b346b88b"
      },
      "execution_count": null,
      "outputs": [
        {
          "output_type": "stream",
          "name": "stdout",
          "text": [
            "\n",
            "\n",
            "\u001b[1m> Entering new AgentExecutor chain...\u001b[0m\n",
            "\u001b[32;1m\u001b[1;3mThought: I need to filter the dataframe to only include rows from 2005\n",
            "Action: python_repl_ast\n",
            "Action Input: df[df['YEAR_ID'] == 2005]\u001b[0m\n",
            "Observation: \u001b[36;1m\u001b[1;3m      ORDERNUMBER  QUANTITYORDERED  PRICEEACH  ORDERLINENUMBER    SALES  \\\n",
            "22          10375               21      34.91               12   733.11   \n",
            "23          10388               42      76.36                4  3207.12   \n",
            "24          10403               24     100.00                7  2434.56   \n",
            "25          10417               66     100.00                2  7516.08   \n",
            "49          10369               41     100.00                2  4514.92   \n",
            "...           ...              ...        ...              ...      ...   \n",
            "2796        10415               42      57.61                3  2419.62   \n",
            "2819        10373               29     100.00                1  3978.51   \n",
            "2820        10386               43     100.00                4  5417.57   \n",
            "2821        10397               34      62.24                1  2116.16   \n",
            "2822        10414               47      65.52                9  3079.44   \n",
            "\n",
            "                ORDERDATE    STATUS  QTR_ID  MONTH_ID  YEAR_ID  ...  \\\n",
            "22    2005-03-02 00:00:00   Shipped       1         2     2005  ...   \n",
            "23    2005-03-03 00:00:00   Shipped       1         3     2005  ...   \n",
            "24    2005-08-04 00:00:00   Shipped       2         4     2005  ...   \n",
            "25         5/13/2005 0:00  Disputed       2         5     2005  ...   \n",
            "49         1/20/2005 0:00   Shipped       1         1     2005  ...   \n",
            "...                   ...       ...     ...       ...      ...  ...   \n",
            "2796  2005-09-05 00:00:00  Disputed       2         5     2005  ...   \n",
            "2819       1/31/2005 0:00   Shipped       1         1     2005  ...   \n",
            "2820  2005-01-03 00:00:00  Resolved       1         3     2005  ...   \n",
            "2821       3/28/2005 0:00   Shipped       1         3     2005  ...   \n",
            "2822  2005-06-05 00:00:00   On Hold       2         5     2005  ...   \n",
            "\n",
            "     ADDRESSLINE2          CITY     STATE POSTALCODE    COUNTRY TERRITORY  \\\n",
            "22            NaN        Nantes       NaN      44000     France      EMEA   \n",
            "23            NaN   New Bedford        MA      50553        USA       NaN   \n",
            "24            NaN     Liverpool       NaN    WX1 6LT         UK      EMEA   \n",
            "25            NaN        Madrid       NaN      28034      Spain      EMEA   \n",
            "49            NaN    Brickhaven        MA      58339        USA       NaN   \n",
            "...           ...           ...       ...        ...        ...       ...   \n",
            "2796          NaN  Glen Waverly  Victoria       3150  Australia      APAC   \n",
            "2819          NaN          Oulu       NaN      90110    Finland      EMEA   \n",
            "2820          NaN        Madrid       NaN      28034      Spain      EMEA   \n",
            "2821          NaN      Toulouse       NaN      31000     France      EMEA   \n",
            "2822          NaN        Boston        MA      51003        USA       NaN   \n",
            "\n",
            "     CONTACTLASTNAME CONTACTFIRSTNAME DEALSIZE DISCOUNT  \n",
            "22           Labrune           Janine    Small      4.0  \n",
            "23           Benitez          Violeta   Medium      3.0  \n",
            "24             Devon        Elizabeth    Small      7.0  \n",
            "25            Freyre            Diego    Large      NaN  \n",
            "49            Nelson            Allen   Medium     10.0  \n",
            "...              ...              ...      ...      ...  \n",
            "2796         Connery             Sean    Small      NaN  \n",
            "2819       Koskitalo           Pirkko   Medium      1.0  \n",
            "2820          Freyre            Diego   Medium      NaN  \n",
            "2821          Roulet          Annette    Small      1.0  \n",
            "2822         Yoshido             Juri   Medium      NaN  \n",
            "\n",
            "[478 rows x 26 columns]\u001b[0m\n",
            "Thought:\u001b[32;1m\u001b[1;3m I need to group the data by quarter and sum the sales\n",
            "Action: python_repl_ast\n",
            "Action Input: df[df['YEAR_ID'] == 2005].groupby('QTR_ID')['SALES'].sum()\u001b[0m\n",
            "Observation: \u001b[36;1m\u001b[1;3mQTR_ID\n",
            "1    1071992.36\n",
            "2     719494.35\n",
            "Name: SALES, dtype: float64\u001b[0m\n",
            "Thought:\u001b[32;1m\u001b[1;3m I now know the final answer\n",
            "Final Answer: The total sales for each quarter of the year 2005 are Q1: $1,071,992.36 and Q2: $719,494.35.\u001b[0m\n",
            "\n",
            "\u001b[1m> Finished chain.\u001b[0m\n"
          ]
        },
        {
          "output_type": "execute_result",
          "data": {
            "text/plain": [
              "'The total sales for each quarter of the year 2005 are Q1: $1,071,992.36 and Q2: $719,494.35.'"
            ],
            "application/vnd.google.colaboratory.intrinsic+json": {
              "type": "string"
            }
          },
          "metadata": {},
          "execution_count": 51
        }
      ]
    },
    {
      "cell_type": "code",
      "source": [
        "#Q7\n",
        "agent.run(\"what is the Average Sales when the territory is 'EMEA' and the discount >= 10.\")"
      ],
      "metadata": {
        "colab": {
          "base_uri": "https://localhost:8080/",
          "height": 281
        },
        "id": "krSceszWlx5d",
        "outputId": "f35c132d-6785-4e8b-9d41-d3ee57f5e856"
      },
      "execution_count": null,
      "outputs": [
        {
          "output_type": "stream",
          "name": "stdout",
          "text": [
            "\n",
            "\n",
            "\u001b[1m> Entering new AgentExecutor chain...\u001b[0m\n",
            "\u001b[32;1m\u001b[1;3mThought: I need to filter the dataframe to only include rows with the territory 'EMEA' and discount >= 10.\n",
            "Action: python_repl_ast\n",
            "Action Input: df[(df['TERRITORY'] == 'EMEA') & (df['DISCOUNT'] >= 10)].mean()['SALES']\u001b[0m\n",
            "Observation: \u001b[36;1m\u001b[1;3m3396.536788321168\u001b[0m\n",
            "Thought:"
          ]
        },
        {
          "output_type": "stream",
          "name": "stderr",
          "text": [
            "<string>:1: FutureWarning: The default value of numeric_only in DataFrame.mean is deprecated. In a future version, it will default to False. In addition, specifying 'numeric_only=None' is deprecated. Select only valid columns or specify the value of numeric_only to silence this warning.\n"
          ]
        },
        {
          "output_type": "stream",
          "name": "stdout",
          "text": [
            "\u001b[32;1m\u001b[1;3m I now know the final answer\n",
            "Final Answer: The average sales when the territory is 'EMEA' and the discount is greater than or equal to 10 is 3396.54.\u001b[0m\n",
            "\n",
            "\u001b[1m> Finished chain.\u001b[0m\n"
          ]
        },
        {
          "output_type": "execute_result",
          "data": {
            "text/plain": [
              "\"The average sales when the territory is 'EMEA' and the discount is greater than or equal to 10 is 3396.54.\""
            ],
            "application/vnd.google.colaboratory.intrinsic+json": {
              "type": "string"
            }
          },
          "metadata": {},
          "execution_count": 53
        }
      ]
    },
    {
      "cell_type": "code",
      "source": [
        "#Q2\n",
        "agent.run(\"Show only customer names from state 'CA' who ordered products in the year 2003 and sort the results by sales amount, with the highest sales at the top. Use CUSTOMERNAME column\")"
      ],
      "metadata": {
        "colab": {
          "base_uri": "https://localhost:8080/",
          "height": 454
        },
        "id": "wjl8jjGYmdO3",
        "outputId": "92a2646b-b927-4131-d378-1c127f1467b3"
      },
      "execution_count": null,
      "outputs": [
        {
          "output_type": "stream",
          "name": "stdout",
          "text": [
            "\n",
            "\n",
            "\u001b[1m> Entering new AgentExecutor chain...\u001b[0m\n",
            "\u001b[32;1m\u001b[1;3mThought: I need to filter the dataframe to only include customers from CA who ordered in 2003, then sort by sales\n",
            "Action: python_repl_ast\n",
            "Action Input: df[(df['STATE'] == 'CA') & (df['YEAR_ID'] == 2003)].sort_values(by='SALES', ascending=False)['CUSTOMERNAME']\u001b[0m\n",
            "Observation: \u001b[36;1m\u001b[1;3m319     Mini Gifts Distributors Ltd.\n",
            "243                Toys4GrownUps.com\n",
            "165         Corporate Gift Ideas Co.\n",
            "88                   Mini Wheels Co.\n",
            "189     Mini Gifts Distributors Ltd.\n",
            "                    ...             \n",
            "2200               Toys4GrownUps.com\n",
            "2027        Signal Collectibles Ltd.\n",
            "1543        Corporate Gift Ideas Co.\n",
            "2030    Mini Gifts Distributors Ltd.\n",
            "1794    Mini Gifts Distributors Ltd.\n",
            "Name: CUSTOMERNAME, Length: 163, dtype: object\u001b[0m\n",
            "Thought:\u001b[32;1m\u001b[1;3m I now know the final answer\n",
            "Final Answer: Mini Gifts Distributors Ltd., Toys4GrownUps.com, Corporate Gift Ideas Co., Mini Wheels Co., Signal Collectibles Ltd.\u001b[0m\n",
            "\n",
            "\u001b[1m> Finished chain.\u001b[0m\n"
          ]
        },
        {
          "output_type": "execute_result",
          "data": {
            "text/plain": [
              "'Mini Gifts Distributors Ltd., Toys4GrownUps.com, Corporate Gift Ideas Co., Mini Wheels Co., Signal Collectibles Ltd.'"
            ],
            "application/vnd.google.colaboratory.intrinsic+json": {
              "type": "string"
            }
          },
          "metadata": {},
          "execution_count": 56
        }
      ]
    },
    {
      "cell_type": "code",
      "source": [
        "#Q1\n",
        "agent.run(\"For the product code starting with 'S18_', retrieve the total sales amount when quantity ordered >= 50.\")"
      ],
      "metadata": {
        "colab": {
          "base_uri": "https://localhost:8080/",
          "height": 263
        },
        "id": "P_r0o-Nnmxtb",
        "outputId": "f2dbd894-5f17-4d2e-b456-cbc19c621086"
      },
      "execution_count": null,
      "outputs": [
        {
          "output_type": "stream",
          "name": "stdout",
          "text": [
            "\n",
            "\n",
            "\u001b[1m> Entering new AgentExecutor chain...\u001b[0m\n",
            "\u001b[32;1m\u001b[1;3mThought: I need to filter the dataframe to only include rows with product code starting with 'S18_' and quantity ordered >= 50.\n",
            "Action: python_repl_ast\n",
            "Action Input: df[(df['PRODUCTCODE'].str.startswith('S18_')) & (df['QUANTITYORDERED'] >= 50)].SALES.sum()\u001b[0m\n",
            "Observation: \u001b[36;1m\u001b[1;3m272902.59\u001b[0m\n",
            "Thought:\u001b[32;1m\u001b[1;3m I now know the final answer\n",
            "Final Answer: The total sales amount for product code starting with 'S18_' when quantity ordered is greater than or equal to 50 is 272902.59.\u001b[0m\n",
            "\n",
            "\u001b[1m> Finished chain.\u001b[0m\n"
          ]
        },
        {
          "output_type": "execute_result",
          "data": {
            "text/plain": [
              "\"The total sales amount for product code starting with 'S18_' when quantity ordered is greater than or equal to 50 is 272902.59.\""
            ],
            "application/vnd.google.colaboratory.intrinsic+json": {
              "type": "string"
            }
          },
          "metadata": {},
          "execution_count": 57
        }
      ]
    },
    {
      "cell_type": "code",
      "source": [],
      "metadata": {
        "id": "tg8x5H_AowEf"
      },
      "execution_count": null,
      "outputs": []
    },
    {
      "cell_type": "code",
      "source": [],
      "metadata": {
        "id": "bcOiP9DK4yCV"
      },
      "execution_count": null,
      "outputs": []
    },
    {
      "cell_type": "markdown",
      "source": [
        "# Passing Custom Data"
      ],
      "metadata": {
        "id": "3p0irgqGsYNc"
      }
    },
    {
      "cell_type": "code",
      "source": [
        "!pip install langchain\n",
        "!pip install openai\n",
        "!pip install PyPDF2\n",
        "!pip install faiss-cpu\n",
        "!pip install tiktoken"
      ],
      "metadata": {
        "id": "VaB1H1nFsZqq"
      },
      "execution_count": null,
      "outputs": []
    },
    {
      "cell_type": "code",
      "source": [
        "from PyPDF2 import PdfReader\n",
        "from langchain.embeddings.openai import OpenAIEmbeddings\n",
        "from langchain.text_splitter import CharacterTextSplitter\n",
        "from langchain.vectorstores import ElasticVectorSearch, Pinecone, Weaviate, FAISS"
      ],
      "metadata": {
        "id": "T2IZ2GWVRFyt"
      },
      "execution_count": null,
      "outputs": []
    },
    {
      "cell_type": "code",
      "source": [
        "import os\n",
        "os.environ['OPENAI_API_KEY'] = \"\""
      ],
      "metadata": {
        "id": "PfTang5qRnMH"
      },
      "execution_count": null,
      "outputs": []
    },
    {
      "cell_type": "code",
      "source": [
        "reader = PdfReader(\"/content/2304.09697.pdf\")"
      ],
      "metadata": {
        "id": "OP3C-I3wRscs"
      },
      "execution_count": null,
      "outputs": []
    },
    {
      "cell_type": "code",
      "source": [
        "raw_text = \"\"\n",
        "for i, page in enumerate(reader.pages):\n",
        "  text = page.extract_text()\n",
        "  if text:\n",
        "    raw_text += text"
      ],
      "metadata": {
        "id": "wwqgW78VoXku"
      },
      "execution_count": null,
      "outputs": []
    },
    {
      "cell_type": "code",
      "source": [
        "raw_text[:500]"
      ],
      "metadata": {
        "colab": {
          "base_uri": "https://localhost:8080/",
          "height": 88
        },
        "id": "5yB7avHXowWH",
        "outputId": "26f87ad2-305c-4a7b-9e5c-6d84a66dd8fb"
      },
      "execution_count": null,
      "outputs": [
        {
          "output_type": "execute_result",
          "data": {
            "text/plain": [
              "'arXiv:2304.09697v1  [cs.PL]  19 Apr 2023A CALCULUS FOR SCOPED EFFECTS & HANDLERS\\nROGER BOSMANa, BIRTHE VAN DEN BERGa, WENHAO TANGb,\\nAND TOM SCHRIJVERSa\\naKU Leuven, Celestijnenlaan 200A\\ne-mail address :{roger.bosman/birthe.vandenberg/tom.schrijvers }@kuleuven.be\\nbThe University of Edinburgh, 10 Crichton Street\\ne-mail address : wenhao.tang@ed.ac.uk\\nAbstract. Algebraic eﬀects & handlers have become a standard approach for side-eﬀects\\nin functional programming. Their modular composition with other e'"
            ],
            "application/vnd.google.colaboratory.intrinsic+json": {
              "type": "string"
            }
          },
          "metadata": {},
          "execution_count": 8
        }
      ]
    },
    {
      "cell_type": "code",
      "source": [
        "text_splitter = CharacterTextSplitter(\n",
        "    separator = \"\\n\",\n",
        "    chunk_size = 1000,\n",
        "    chunk_overlap = 200,\n",
        "    length_function = len,\n",
        ")\n",
        "\n",
        "texts = text_splitter.split_text(raw_text)\n"
      ],
      "metadata": {
        "id": "9n5vMahto0Kf"
      },
      "execution_count": null,
      "outputs": []
    },
    {
      "cell_type": "code",
      "source": [
        "len(texts)"
      ],
      "metadata": {
        "colab": {
          "base_uri": "https://localhost:8080/"
        },
        "id": "e-oTXad9s1Sy",
        "outputId": "a11a3edc-3ae7-4ac7-b320-20160d4486e8"
      },
      "execution_count": null,
      "outputs": [
        {
          "output_type": "execute_result",
          "data": {
            "text/plain": [
              "213"
            ]
          },
          "metadata": {},
          "execution_count": 10
        }
      ]
    },
    {
      "cell_type": "code",
      "source": [
        "texts[0]"
      ],
      "metadata": {
        "colab": {
          "base_uri": "https://localhost:8080/",
          "height": 140
        },
        "id": "wHnP6L8_s2dO",
        "outputId": "027ba46b-7e23-4fb9-d689-7c826f4e4acf"
      },
      "execution_count": null,
      "outputs": [
        {
          "output_type": "execute_result",
          "data": {
            "text/plain": [
              "'arXiv:2304.09697v1  [cs.PL]  19 Apr 2023A CALCULUS FOR SCOPED EFFECTS & HANDLERS\\nROGER BOSMANa, BIRTHE VAN DEN BERGa, WENHAO TANGb,\\nAND TOM SCHRIJVERSa\\naKU Leuven, Celestijnenlaan 200A\\ne-mail address :{roger.bosman/birthe.vandenberg/tom.schrijvers }@kuleuven.be\\nbThe University of Edinburgh, 10 Crichton Street\\ne-mail address : wenhao.tang@ed.ac.uk\\nAbstract. Algebraic eﬀects & handlers have become a standard approach for side-eﬀects\\nin functional programming. Their modular composition with other eﬀects and clean sepa-\\nration of syntax and semantics make them attractive to a wide audience. However, not all\\neﬀects can be classiﬁed as algebraic; some need a more sophis ticated handling. In partic-\\nular, eﬀects that have or create a delimited scope need speci al care, as their continuation\\nconsists of two parts—in and out of the scope—and their modul ar composition introduces\\nadditional complexity. These eﬀects are called scopedand have gained attention by their'"
            ],
            "application/vnd.google.colaboratory.intrinsic+json": {
              "type": "string"
            }
          },
          "metadata": {},
          "execution_count": 11
        }
      ]
    },
    {
      "cell_type": "code",
      "source": [
        "embeddings = OpenAIEmbeddings()"
      ],
      "metadata": {
        "id": "c-LQBl-TtC4L"
      },
      "execution_count": null,
      "outputs": []
    },
    {
      "cell_type": "code",
      "source": [
        "docsearch = FAISS.from_texts(texts, embeddings)"
      ],
      "metadata": {
        "id": "CZ2OLgjovj_3"
      },
      "execution_count": null,
      "outputs": []
    },
    {
      "cell_type": "code",
      "source": [
        "docsearch"
      ],
      "metadata": {
        "colab": {
          "base_uri": "https://localhost:8080/"
        },
        "id": "OiiLHKoavou3",
        "outputId": "cfb1005a-b0f5-4eab-d017-17d4fb58efe3"
      },
      "execution_count": null,
      "outputs": [
        {
          "output_type": "execute_result",
          "data": {
            "text/plain": [
              "<langchain.vectorstores.faiss.FAISS at 0x7f71a112e580>"
            ]
          },
          "metadata": {},
          "execution_count": 14
        }
      ]
    },
    {
      "cell_type": "code",
      "source": [
        "from langchain.chains.question_answering import load_qa_chain\n",
        "from langchain.llms import OpenAI"
      ],
      "metadata": {
        "id": "hgki7xE4vqZK"
      },
      "execution_count": null,
      "outputs": []
    },
    {
      "cell_type": "code",
      "source": [
        "chain = load_qa_chain(OpenAI(), chain_type = \"stuff\")"
      ],
      "metadata": {
        "id": "OD7sdDaHv3RV"
      },
      "execution_count": null,
      "outputs": []
    },
    {
      "cell_type": "code",
      "source": [
        "query = \"explain calculus\" #\"give a summary of the paper\"\n",
        "docs = docsearch.similarity_search(query)\n",
        "chain.run(input_documents = docs, question=query)"
      ],
      "metadata": {
        "colab": {
          "base_uri": "https://localhost:8080/",
          "height": 70
        },
        "id": "perUAB9Bzm59",
        "outputId": "21aea6a4-25e5-4636-ba0a-ee68c4e6167c"
      },
      "execution_count": null,
      "outputs": [
        {
          "output_type": "execute_result",
          "data": {
            "text/plain": [
              "' Calculus is a branch of mathematics that is used to study the behavior of functions through the use of limits, derivatives, integrals, and other mathematical tools. It is used in many areas of science and engineering, such as physics, engineering, economics, and finance. It is also used to solve problems in mathematics and computer science.'"
            ],
            "application/vnd.google.colaboratory.intrinsic+json": {
              "type": "string"
            }
          },
          "metadata": {},
          "execution_count": 22
        }
      ]
    },
    {
      "cell_type": "code",
      "source": [],
      "metadata": {
        "id": "L9_sCB8-z4Ew"
      },
      "execution_count": null,
      "outputs": []
    },
    {
      "cell_type": "code",
      "source": [],
      "metadata": {
        "id": "XmGaguRDAvhj"
      },
      "execution_count": null,
      "outputs": []
    },
    {
      "cell_type": "code",
      "source": [],
      "metadata": {
        "id": "c6gXWUshD75h"
      },
      "execution_count": null,
      "outputs": []
    },
    {
      "cell_type": "markdown",
      "source": [
        "# Test"
      ],
      "metadata": {
        "id": "1E7Toc5lD8XM"
      }
    },
    {
      "cell_type": "code",
      "source": [
        "from langchain.agents import Tool, AgentExecutor, LLMSingleActionAgent, AgentOutputParser\n",
        "from langchain.prompts import StringPromptTemplate\n",
        "from langchain import OpenAI, SerpAPIWrapper, LLMChain\n",
        "from typing import List, Union\n",
        "from langchain.schema import AgentAction, AgentFinish\n",
        "from langchain.agents.agent_toolkits import NLAToolkit\n",
        "from langchain.tools.plugin import AIPlugin\n",
        "import re"
      ],
      "metadata": {
        "id": "MBcpV25ZXO_W"
      },
      "execution_count": 128,
      "outputs": []
    },
    {
      "cell_type": "code",
      "source": [
        "agent = LLMSingleActionAgent(\n",
        "    llm_chain=llm_chain, \n",
        "    output_parser=output_parser,\n",
        "    stop=[\"\\nObservation:\"], \n",
        "    allowed_tools=tool_names\n",
        ")"
      ],
      "metadata": {
        "id": "ZjYja0NrYaOW"
      },
      "execution_count": null,
      "outputs": []
    },
    {
      "cell_type": "code",
      "source": [
        "llm = OpenAI(temperature=0)"
      ],
      "metadata": {
        "id": "lEkMcTnoYkui"
      },
      "execution_count": 129,
      "outputs": []
    },
    {
      "cell_type": "code",
      "source": [
        "# LLM chain consisting of the LLM and a prompt\n",
        "llm_chain = LLMChain(llm=llm, prompt = \"\"\n",
        "                     )"
      ],
      "metadata": {
        "colab": {
          "base_uri": "https://localhost:8080/",
          "height": 305
        },
        "id": "LgXH-AUHYlga",
        "outputId": "e86ee7b9-cf7b-49ee-e7d2-e873c68a7f06"
      },
      "execution_count": 132,
      "outputs": [
        {
          "output_type": "error",
          "ename": "ValidationError",
          "evalue": "ignored",
          "traceback": [
            "\u001b[0;31m---------------------------------------------------------------------------\u001b[0m",
            "\u001b[0;31mValidationError\u001b[0m                           Traceback (most recent call last)",
            "\u001b[0;32m<ipython-input-132-8798b12eb450>\u001b[0m in \u001b[0;36m<cell line: 2>\u001b[0;34m()\u001b[0m\n\u001b[1;32m      1\u001b[0m \u001b[0;31m# LLM chain consisting of the LLM and a prompt\u001b[0m\u001b[0;34m\u001b[0m\u001b[0;34m\u001b[0m\u001b[0m\n\u001b[0;32m----> 2\u001b[0;31m llm_chain = LLMChain(llm=llm, prompt = \"\"\n\u001b[0m\u001b[1;32m      3\u001b[0m                      )\n",
            "\u001b[0;32m/usr/local/lib/python3.10/dist-packages/pydantic/main.cpython-310-x86_64-linux-gnu.so\u001b[0m in \u001b[0;36mpydantic.main.BaseModel.__init__\u001b[0;34m()\u001b[0m\n",
            "\u001b[0;31mValidationError\u001b[0m: 1 validation error for LLMChain\nprompt\n  Can't instantiate abstract class BasePromptTemplate with abstract methods format, format_prompt (type=type_error)"
          ]
        }
      ]
    },
    {
      "cell_type": "code",
      "source": [],
      "metadata": {
        "id": "QukajR_oY6Pi"
      },
      "execution_count": null,
      "outputs": []
    }
  ]
}